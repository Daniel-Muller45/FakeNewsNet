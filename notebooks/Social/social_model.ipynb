{
 "cells": [
  {
   "cell_type": "code",
   "execution_count": 1,
   "metadata": {},
   "outputs": [
    {
     "name": "stderr",
     "output_type": "stream",
     "text": [
      "/opt/homebrew/Caskroom/miniconda/base/envs/fnn/lib/python3.13/site-packages/tqdm/auto.py:21: TqdmWarning: IProgress not found. Please update jupyter and ipywidgets. See https://ipywidgets.readthedocs.io/en/stable/user_install.html\n",
      "  from .autonotebook import tqdm as notebook_tqdm\n"
     ]
    }
   ],
   "source": [
    "import torch\n",
    "from torch_geometric.data import HeteroData\n",
    "import pandas as pd\n",
    "from sklearn.feature_extraction.text import TfidfVectorizer\n",
    "from torch_geometric.nn import GCNConv, SAGEConv\n",
    "import torch.nn.functional as F\n",
    "from sklearn.metrics import classification_report"
   ]
  },
  {
   "cell_type": "code",
   "execution_count": 2,
   "metadata": {},
   "outputs": [],
   "source": [
    "with open('../../data/BuzzFeedUser.txt', 'r') as f:\n",
    "    user_list = [line.strip() for line in f.readlines()]\n",
    "user_id_map = {i + 1: uid for i, uid in enumerate(user_list)}"
   ]
  },
  {
   "cell_type": "code",
   "execution_count": 3,
   "metadata": {},
   "outputs": [],
   "source": [
    "with open('../../data/BuzzFeedNews.txt', 'r') as f:\n",
    "    news_list = [line.strip() for line in f.readlines()]\n",
    "news_id_map = {i + 1: nid for i, nid in enumerate(news_list)}"
   ]
  },
  {
   "cell_type": "code",
   "execution_count": 4,
   "metadata": {},
   "outputs": [],
   "source": [
    "user_news_edges = []\n",
    "counts = []\n",
    "\n",
    "with open('../../data/BuzzFeedNewsUser.txt', 'r') as f:\n",
    "    for line in f:\n",
    "        news_id, user_id, count = map(int, line.strip().split())\n",
    "        user_news_edges.append((user_id - 1, news_id - 1))\n",
    "        counts.append(count)"
   ]
  },
  {
   "cell_type": "code",
   "execution_count": 5,
   "metadata": {},
   "outputs": [],
   "source": [
    "max_count = max(counts)\n",
    "normalized_counts = [c / max_count for c in counts]"
   ]
  },
  {
   "cell_type": "code",
   "execution_count": 6,
   "metadata": {},
   "outputs": [],
   "source": [
    "user_user_edges = []\n",
    "\n",
    "with open('../../data/BuzzFeedUserUser.txt', 'r') as f:\n",
    "    for line in f:\n",
    "        follower_id, followee_id = map(int, line.strip().split())\n",
    "        user_user_edges.append((follower_id - 1, followee_id - 1))"
   ]
  },
  {
   "cell_type": "code",
   "execution_count": 7,
   "metadata": {},
   "outputs": [],
   "source": [
    "fake_df = pd.read_csv(\"../../data/BuzzFeed_fake_news_content.csv\")\n",
    "real_df = pd.read_csv(\"../../data/BuzzFeed_real_news_content.csv\")"
   ]
  },
  {
   "cell_type": "code",
   "execution_count": 8,
   "metadata": {},
   "outputs": [],
   "source": [
    "fake_df['label'] = 1\n",
    "real_df['label'] = 0\n",
    "df = pd.concat([fake_df, real_df], ignore_index=True)\n",
    "df = df.sample(frac=1, random_state=42).reset_index(drop=True)\n",
    "\n",
    "news_content = (df['title'] + ' ' + df['text']).tolist()\n",
    "news_labels = df['label'].tolist()\n",
    "\n",
    "news_ids = df['id'].tolist()"
   ]
  },
  {
   "cell_type": "code",
   "execution_count": 9,
   "metadata": {},
   "outputs": [],
   "source": [
    "from sklearn.feature_extraction.text import TfidfVectorizer\n",
    "import torch\n",
    "\n",
    "vectorizer = TfidfVectorizer(max_features=300)\n",
    "news_features = vectorizer.fit_transform(news_content).toarray()\n",
    "news_features = torch.tensor(news_features, dtype=torch.float)"
   ]
  },
  {
   "cell_type": "code",
   "execution_count": 10,
   "metadata": {},
   "outputs": [],
   "source": [
    "data = HeteroData()\n",
    "\n",
    "num_users = len(user_id_map)\n",
    "data['user'].x = torch.eye(num_users)\n",
    "\n",
    "data['news'].x = news_features\n",
    "\n",
    "data['news'].y = torch.tensor(news_labels, dtype=torch.long)"
   ]
  },
  {
   "cell_type": "code",
   "execution_count": 11,
   "metadata": {},
   "outputs": [],
   "source": [
    "user_news_edge_index = torch.tensor(user_news_edges, dtype=torch.long).t().contiguous()\n",
    "user_news_edge_attr = torch.tensor(normalized_counts, dtype=torch.float).unsqueeze(1)\n",
    "\n",
    "data['user', 'spreads', 'news'].edge_index = user_news_edge_index\n",
    "data['user', 'spreads', 'news'].edge_attr = user_news_edge_attr\n",
    "\n",
    "user_user_edge_index = torch.tensor(user_user_edges, dtype=torch.long).t().contiguous()\n",
    "data['user', 'follows', 'user'].edge_index = user_user_edge_index\n"
   ]
  },
  {
   "cell_type": "code",
   "execution_count": 12,
   "metadata": {},
   "outputs": [],
   "source": [
    "class HeteroGCN(torch.nn.Module):\n",
    "    def __init__(self, hidden_channels, out_channels):\n",
    "        super().__init__()\n",
    "        self.conv = torch.nn.ModuleDict({\n",
    "            'follows': GCNConv(-1, hidden_channels),\n",
    "            'spreads': SAGEConv((-1, -1), hidden_channels),\n",
    "        })\n",
    "        \n",
    "        self.lin = torch.nn.ModuleDict({\n",
    "            'user': torch.nn.Linear(hidden_channels, hidden_channels),\n",
    "            'news': torch.nn.Linear(hidden_channels, out_channels)\n",
    "        })\n",
    "\n",
    "    def forward(self, x_dict, edge_index_dict, edge_weight_dict=None):\n",
    "        x_user = self.conv['follows'](\n",
    "            x_dict['user'],\n",
    "            edge_index_dict[('user', 'follows', 'user')],\n",
    "            edge_weight=edge_weight_dict.get(('user', 'follows', 'user'))\n",
    "        )\n",
    "        \n",
    "        x_news = self.conv['spreads'](\n",
    "            (x_dict['user'], x_dict['news']),\n",
    "            edge_index_dict[('user', 'spreads', 'news')]\n",
    "        )\n",
    "        \n",
    "        out_dict = {\n",
    "            'user': F.relu(self.lin['user'](x_user)),\n",
    "            'news': F.relu(self.lin['news'](x_news)),\n",
    "        }\n",
    "        \n",
    "        return out_dict"
   ]
  },
  {
   "cell_type": "code",
   "execution_count": 13,
   "metadata": {},
   "outputs": [],
   "source": [
    "import random\n",
    "\n",
    "num_news = data['news'].num_nodes\n",
    "indices = list(range(num_news))\n",
    "random.shuffle(indices)\n",
    "\n",
    "train_size = int(0.7 * num_news)\n",
    "val_size = int(0.15 * num_news)\n",
    "test_size = num_news - train_size - val_size\n",
    "\n",
    "train_id = indices[:train_size]\n",
    "val_id = indices[train_size:train_size + val_size]\n",
    "test_id = indices[train_size + val_size:]\n",
    "\n",
    "train_mask = torch.zeros(num_news, dtype=torch.bool)\n",
    "val_mask = torch.zeros(num_news, dtype=torch.bool)\n",
    "test_mask = torch.zeros(num_news, dtype=torch.bool)\n",
    "\n",
    "train_mask[train_id] = True\n",
    "val_mask[val_id] = True\n",
    "test_mask[test_id] = True\n",
    "\n",
    "data['news'].train_mask = train_mask\n",
    "data['news'].val_mask = val_mask\n",
    "data['news'].test_mask = test_mask"
   ]
  },
  {
   "cell_type": "code",
   "execution_count": 14,
   "metadata": {},
   "outputs": [],
   "source": [
    "device = torch.device('cuda' if torch.cuda.is_available() else 'cpu')\n",
    "model = HeteroGCN(hidden_channels=64, out_channels=2).to(device)\n",
    "data = data.to(device)\n",
    "\n",
    "optimizer = torch.optim.Adam(model.parameters(), lr=0.01)\n",
    "criterion = torch.nn.CrossEntropyLoss()"
   ]
  },
  {
   "cell_type": "code",
   "execution_count": 15,
   "metadata": {},
   "outputs": [
    {
     "ename": "UnboundLocalError",
     "evalue": "cannot access local variable 'x_news' where it is not associated with a value",
     "output_type": "error",
     "traceback": [
      "\u001b[31m---------------------------------------------------------------------------\u001b[39m",
      "\u001b[31mUnboundLocalError\u001b[39m                         Traceback (most recent call last)",
      "\u001b[36mCell\u001b[39m\u001b[36m \u001b[39m\u001b[32mIn[15]\u001b[39m\u001b[32m, line 4\u001b[39m\n\u001b[32m      2\u001b[39m model.train()\n\u001b[32m      3\u001b[39m optimizer.zero_grad()\n\u001b[32m----> \u001b[39m\u001b[32m4\u001b[39m out_dict = \u001b[43mmodel\u001b[49m\u001b[43m(\u001b[49m\u001b[43mdata\u001b[49m\u001b[43m.\u001b[49m\u001b[43mx_dict\u001b[49m\u001b[43m,\u001b[49m\u001b[43m \u001b[49m\u001b[43mdata\u001b[49m\u001b[43m.\u001b[49m\u001b[43medge_index_dict\u001b[49m\u001b[43m,\u001b[49m\u001b[43m \u001b[49m\u001b[43m{\u001b[49m\n\u001b[32m      5\u001b[39m \u001b[43m    \u001b[49m\u001b[43m(\u001b[49m\u001b[33;43m'\u001b[39;49m\u001b[33;43muser\u001b[39;49m\u001b[33;43m'\u001b[39;49m\u001b[43m,\u001b[49m\u001b[43m \u001b[49m\u001b[33;43m'\u001b[39;49m\u001b[33;43mspreads\u001b[39;49m\u001b[33;43m'\u001b[39;49m\u001b[43m,\u001b[49m\u001b[43m \u001b[49m\u001b[33;43m'\u001b[39;49m\u001b[33;43mnews\u001b[39;49m\u001b[33;43m'\u001b[39;49m\u001b[43m)\u001b[49m\u001b[43m:\u001b[49m\u001b[43m \u001b[49m\u001b[43mdata\u001b[49m\u001b[43m[\u001b[49m\u001b[33;43m'\u001b[39;49m\u001b[33;43muser\u001b[39;49m\u001b[33;43m'\u001b[39;49m\u001b[43m,\u001b[49m\u001b[43m \u001b[49m\u001b[33;43m'\u001b[39;49m\u001b[33;43mspreads\u001b[39;49m\u001b[33;43m'\u001b[39;49m\u001b[43m,\u001b[49m\u001b[43m \u001b[49m\u001b[33;43m'\u001b[39;49m\u001b[33;43mnews\u001b[39;49m\u001b[33;43m'\u001b[39;49m\u001b[43m]\u001b[49m\u001b[43m.\u001b[49m\u001b[43medge_attr\u001b[49m\u001b[43m.\u001b[49m\u001b[43msqueeze\u001b[49m\u001b[43m(\u001b[49m\u001b[43m)\u001b[49m\n\u001b[32m      6\u001b[39m \u001b[43m\u001b[49m\u001b[43m}\u001b[49m\u001b[43m)\u001b[49m\n\u001b[32m      7\u001b[39m out = out_dict[\u001b[33m'\u001b[39m\u001b[33mnews\u001b[39m\u001b[33m'\u001b[39m]\n\u001b[32m      8\u001b[39m loss = criterion(out[train_mask], data[\u001b[33m'\u001b[39m\u001b[33mnews\u001b[39m\u001b[33m'\u001b[39m].y[train_mask])\n",
      "\u001b[36mFile \u001b[39m\u001b[32m/opt/homebrew/Caskroom/miniconda/base/envs/fnn/lib/python3.13/site-packages/torch/nn/modules/module.py:1751\u001b[39m, in \u001b[36mModule._wrapped_call_impl\u001b[39m\u001b[34m(self, *args, **kwargs)\u001b[39m\n\u001b[32m   1749\u001b[39m     \u001b[38;5;28;01mreturn\u001b[39;00m \u001b[38;5;28mself\u001b[39m._compiled_call_impl(*args, **kwargs)  \u001b[38;5;66;03m# type: ignore[misc]\u001b[39;00m\n\u001b[32m   1750\u001b[39m \u001b[38;5;28;01melse\u001b[39;00m:\n\u001b[32m-> \u001b[39m\u001b[32m1751\u001b[39m     \u001b[38;5;28;01mreturn\u001b[39;00m \u001b[38;5;28;43mself\u001b[39;49m\u001b[43m.\u001b[49m\u001b[43m_call_impl\u001b[49m\u001b[43m(\u001b[49m\u001b[43m*\u001b[49m\u001b[43margs\u001b[49m\u001b[43m,\u001b[49m\u001b[43m \u001b[49m\u001b[43m*\u001b[49m\u001b[43m*\u001b[49m\u001b[43mkwargs\u001b[49m\u001b[43m)\u001b[49m\n",
      "\u001b[36mFile \u001b[39m\u001b[32m/opt/homebrew/Caskroom/miniconda/base/envs/fnn/lib/python3.13/site-packages/torch/nn/modules/module.py:1762\u001b[39m, in \u001b[36mModule._call_impl\u001b[39m\u001b[34m(self, *args, **kwargs)\u001b[39m\n\u001b[32m   1757\u001b[39m \u001b[38;5;66;03m# If we don't have any hooks, we want to skip the rest of the logic in\u001b[39;00m\n\u001b[32m   1758\u001b[39m \u001b[38;5;66;03m# this function, and just call forward.\u001b[39;00m\n\u001b[32m   1759\u001b[39m \u001b[38;5;28;01mif\u001b[39;00m \u001b[38;5;129;01mnot\u001b[39;00m (\u001b[38;5;28mself\u001b[39m._backward_hooks \u001b[38;5;129;01mor\u001b[39;00m \u001b[38;5;28mself\u001b[39m._backward_pre_hooks \u001b[38;5;129;01mor\u001b[39;00m \u001b[38;5;28mself\u001b[39m._forward_hooks \u001b[38;5;129;01mor\u001b[39;00m \u001b[38;5;28mself\u001b[39m._forward_pre_hooks\n\u001b[32m   1760\u001b[39m         \u001b[38;5;129;01mor\u001b[39;00m _global_backward_pre_hooks \u001b[38;5;129;01mor\u001b[39;00m _global_backward_hooks\n\u001b[32m   1761\u001b[39m         \u001b[38;5;129;01mor\u001b[39;00m _global_forward_hooks \u001b[38;5;129;01mor\u001b[39;00m _global_forward_pre_hooks):\n\u001b[32m-> \u001b[39m\u001b[32m1762\u001b[39m     \u001b[38;5;28;01mreturn\u001b[39;00m \u001b[43mforward_call\u001b[49m\u001b[43m(\u001b[49m\u001b[43m*\u001b[49m\u001b[43margs\u001b[49m\u001b[43m,\u001b[49m\u001b[43m \u001b[49m\u001b[43m*\u001b[49m\u001b[43m*\u001b[49m\u001b[43mkwargs\u001b[49m\u001b[43m)\u001b[49m\n\u001b[32m   1764\u001b[39m result = \u001b[38;5;28;01mNone\u001b[39;00m\n\u001b[32m   1765\u001b[39m called_always_called_hooks = \u001b[38;5;28mset\u001b[39m()\n",
      "\u001b[36mCell\u001b[39m\u001b[36m \u001b[39m\u001b[32mIn[12]\u001b[39m\u001b[32m, line 21\u001b[39m, in \u001b[36mHeteroGCN.forward\u001b[39m\u001b[34m(self, x_dict, edge_index_dict, edge_weight_dict)\u001b[39m\n\u001b[32m     15\u001b[39m x_user = \u001b[38;5;28mself\u001b[39m.conv[\u001b[33m'\u001b[39m\u001b[33mfollows\u001b[39m\u001b[33m'\u001b[39m](\n\u001b[32m     16\u001b[39m     x_dict[\u001b[33m'\u001b[39m\u001b[33muser\u001b[39m\u001b[33m'\u001b[39m],\n\u001b[32m     17\u001b[39m     edge_index_dict[(\u001b[33m'\u001b[39m\u001b[33muser\u001b[39m\u001b[33m'\u001b[39m, \u001b[33m'\u001b[39m\u001b[33mfollows\u001b[39m\u001b[33m'\u001b[39m, \u001b[33m'\u001b[39m\u001b[33muser\u001b[39m\u001b[33m'\u001b[39m)],\n\u001b[32m     18\u001b[39m     edge_weight=edge_weight_dict.get((\u001b[33m'\u001b[39m\u001b[33muser\u001b[39m\u001b[33m'\u001b[39m, \u001b[33m'\u001b[39m\u001b[33mfollows\u001b[39m\u001b[33m'\u001b[39m, \u001b[33m'\u001b[39m\u001b[33muser\u001b[39m\u001b[33m'\u001b[39m))\n\u001b[32m     19\u001b[39m )\n\u001b[32m     20\u001b[39m x_user = F.dropout(x_user, p=\u001b[32m0.5\u001b[39m, training=\u001b[38;5;28mself\u001b[39m.training)\n\u001b[32m---> \u001b[39m\u001b[32m21\u001b[39m x_news = F.dropout(\u001b[43mx_news\u001b[49m, p=\u001b[32m0.5\u001b[39m, training=\u001b[38;5;28mself\u001b[39m.training)   \n\u001b[32m     23\u001b[39m x_news = \u001b[38;5;28mself\u001b[39m.conv[\u001b[33m'\u001b[39m\u001b[33mspreads\u001b[39m\u001b[33m'\u001b[39m](\n\u001b[32m     24\u001b[39m     (x_dict[\u001b[33m'\u001b[39m\u001b[33muser\u001b[39m\u001b[33m'\u001b[39m], x_dict[\u001b[33m'\u001b[39m\u001b[33mnews\u001b[39m\u001b[33m'\u001b[39m]),\n\u001b[32m     25\u001b[39m     edge_index_dict[(\u001b[33m'\u001b[39m\u001b[33muser\u001b[39m\u001b[33m'\u001b[39m, \u001b[33m'\u001b[39m\u001b[33mspreads\u001b[39m\u001b[33m'\u001b[39m, \u001b[33m'\u001b[39m\u001b[33mnews\u001b[39m\u001b[33m'\u001b[39m)]\n\u001b[32m     26\u001b[39m )\n\u001b[32m     28\u001b[39m out_dict = {\n\u001b[32m     29\u001b[39m     \u001b[33m'\u001b[39m\u001b[33muser\u001b[39m\u001b[33m'\u001b[39m: F.relu(\u001b[38;5;28mself\u001b[39m.lin[\u001b[33m'\u001b[39m\u001b[33muser\u001b[39m\u001b[33m'\u001b[39m](x_user)),\n\u001b[32m     30\u001b[39m     \u001b[33m'\u001b[39m\u001b[33mnews\u001b[39m\u001b[33m'\u001b[39m: F.relu(\u001b[38;5;28mself\u001b[39m.lin[\u001b[33m'\u001b[39m\u001b[33mnews\u001b[39m\u001b[33m'\u001b[39m](x_news)),\n\u001b[32m     31\u001b[39m }\n",
      "\u001b[31mUnboundLocalError\u001b[39m: cannot access local variable 'x_news' where it is not associated with a value"
     ]
    }
   ],
   "source": [
    "for epoch in range(1, 101):\n",
    "    model.train()\n",
    "    optimizer.zero_grad()\n",
    "    out_dict = model(data.x_dict, data.edge_index_dict, {\n",
    "        ('user', 'spreads', 'news'): data['user', 'spreads', 'news'].edge_attr.squeeze()\n",
    "    })\n",
    "    out = out_dict['news']\n",
    "    loss = criterion(out[train_mask], data['news'].y[train_mask])\n",
    "    loss.backward()\n",
    "    optimizer.step()\n",
    "    if epoch % 10 == 0 or epoch == 1:\n",
    "        print(f\"Epoch {epoch:03d}, Loss: {loss.item():.4f}\")"
   ]
  },
  {
   "cell_type": "code",
   "execution_count": 16,
   "metadata": {},
   "outputs": [],
   "source": [
    "model.eval()\n",
    "with torch.no_grad():\n",
    "    out_dict = model(data.x_dict, data.edge_index_dict, {\n",
    "        ('user', 'spreads', 'news'): data['user', 'spreads', 'news'].edge_attr.squeeze()\n",
    "    })\n",
    "    news_embeddings = out_dict['news'].cpu().numpy()"
   ]
  },
  {
   "cell_type": "code",
   "execution_count": 17,
   "metadata": {},
   "outputs": [
    {
     "name": "stdout",
     "output_type": "stream",
     "text": [
      "Random Forest Results:\n",
      "Accuracy: 0.6785714285714286\n",
      "Precision: 0.5882352941176471\n",
      "Recall: 0.8333333333333334\n",
      "F1 Score: 0.6896551724137931\n",
      "ROC AUC Score: 0.7369791666666667\n",
      "\n",
      "Classification Report:\n",
      "               precision    recall  f1-score   support\n",
      "\n",
      "        Real       0.82      0.56      0.67        16\n",
      "        Fake       0.59      0.83      0.69        12\n",
      "\n",
      "    accuracy                           0.68        28\n",
      "   macro avg       0.70      0.70      0.68        28\n",
      "weighted avg       0.72      0.68      0.68        28\n",
      "\n"
     ]
    }
   ],
   "source": [
    "from sklearn.ensemble import RandomForestClassifier\n",
    "from sklearn.metrics import accuracy_score, precision_score, recall_score, f1_score, classification_report, roc_auc_score\n",
    "\n",
    "y = data['news'].y.cpu().numpy()\n",
    "\n",
    "rf = RandomForestClassifier(random_state=42)\n",
    "rf.fit(news_embeddings[train_id], y[train_id])\n",
    "\n",
    "# 6. Evaluate\n",
    "y_pred = rf.predict(news_embeddings[test_id])\n",
    "y_probs = rf.predict_proba(news_embeddings[test_id])[:, 1]\n",
    "y_true = y[test_id]\n",
    "\n",
    "print(\"Random Forest Results:\")\n",
    "print(\"Accuracy:\", accuracy_score(y_true, y_pred))\n",
    "print(\"Precision:\", precision_score(y_true, y_pred))\n",
    "print(\"Recall:\", recall_score(y_true, y_pred))\n",
    "print(\"F1 Score:\", f1_score(y_true, y_pred))\n",
    "print(\"ROC AUC Score:\", roc_auc_score(y_true, y_probs))\n",
    "print(\"\\nClassification Report:\\n\", classification_report(y_true, y_pred, target_names=[\"Real\", \"Fake\"]))"
   ]
  },
  {
   "cell_type": "code",
   "execution_count": null,
   "metadata": {},
   "outputs": [],
   "source": []
  }
 ],
 "metadata": {
  "kernelspec": {
   "display_name": "fnn",
   "language": "python",
   "name": "python3"
  },
  "language_info": {
   "codemirror_mode": {
    "name": "ipython",
    "version": 3
   },
   "file_extension": ".py",
   "mimetype": "text/x-python",
   "name": "python",
   "nbconvert_exporter": "python",
   "pygments_lexer": "ipython3",
   "version": "3.13.2"
  }
 },
 "nbformat": 4,
 "nbformat_minor": 2
}
