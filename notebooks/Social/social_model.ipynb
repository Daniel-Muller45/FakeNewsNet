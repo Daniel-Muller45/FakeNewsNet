{
 "cells": [
  {
   "cell_type": "code",
   "execution_count": 1,
   "metadata": {},
   "outputs": [
    {
     "name": "stderr",
     "output_type": "stream",
     "text": [
      "/opt/homebrew/Caskroom/miniconda/base/envs/fnn/lib/python3.13/site-packages/tqdm/auto.py:21: TqdmWarning: IProgress not found. Please update jupyter and ipywidgets. See https://ipywidgets.readthedocs.io/en/stable/user_install.html\n",
      "  from .autonotebook import tqdm as notebook_tqdm\n"
     ]
    }
   ],
   "source": [
    "import torch\n",
    "from torch_geometric.data import HeteroData\n",
    "import pandas as pd\n",
    "from sklearn.feature_extraction.text import TfidfVectorizer\n",
    "from torch_geometric.nn import GCNConv, SAGEConv\n",
    "import torch.nn.functional as F\n",
    "from sklearn.metrics import classification_report"
   ]
  },
  {
   "cell_type": "code",
   "execution_count": 2,
   "metadata": {},
   "outputs": [],
   "source": [
    "with open('../../data/BuzzFeedUser.txt', 'r') as f:\n",
    "    user_list = [line.strip() for line in f.readlines()]\n",
    "user_id_map = {i + 1: uid for i, uid in enumerate(user_list)}"
   ]
  },
  {
   "cell_type": "code",
   "execution_count": 3,
   "metadata": {},
   "outputs": [],
   "source": [
    "with open('../../data/BuzzFeedNews.txt', 'r') as f:\n",
    "    news_list = [line.strip() for line in f.readlines()]\n",
    "news_id_map = {i + 1: nid for i, nid in enumerate(news_list)}"
   ]
  },
  {
   "cell_type": "code",
   "execution_count": 4,
   "metadata": {},
   "outputs": [],
   "source": [
    "user_news_edges = []\n",
    "counts = []\n",
    "\n",
    "with open('../../data/BuzzFeedNewsUser.txt', 'r') as f:\n",
    "    for line in f:\n",
    "        news_id, user_id, count = map(int, line.strip().split())\n",
    "        user_news_edges.append((user_id - 1, news_id - 1))\n",
    "        counts.append(count)"
   ]
  },
  {
   "cell_type": "code",
   "execution_count": 5,
   "metadata": {},
   "outputs": [],
   "source": [
    "max_count = max(counts)\n",
    "normalized_counts = [c / max_count for c in counts]"
   ]
  },
  {
   "cell_type": "code",
   "execution_count": 6,
   "metadata": {},
   "outputs": [],
   "source": [
    "user_user_edges = []\n",
    "\n",
    "with open('../../data/BuzzFeedUserUser.txt', 'r') as f:\n",
    "    for line in f:\n",
    "        follower_id, followee_id = map(int, line.strip().split())\n",
    "        user_user_edges.append((follower_id - 1, followee_id - 1))"
   ]
  },
  {
   "cell_type": "code",
   "execution_count": 7,
   "metadata": {},
   "outputs": [],
   "source": [
    "fake_df = pd.read_csv(\"../../data/BuzzFeed_fake_news_content.csv\")\n",
    "real_df = pd.read_csv(\"../../data/BuzzFeed_real_news_content.csv\")"
   ]
  },
  {
   "cell_type": "code",
   "execution_count": 8,
   "metadata": {},
   "outputs": [],
   "source": [
    "fake_df['label'] = 1\n",
    "real_df['label'] = 0\n",
    "df = pd.concat([fake_df, real_df], ignore_index=True)\n",
    "df = df.sample(frac=1, random_state=42).reset_index(drop=True)\n",
    "\n",
    "news_content = (df['title'] + ' ' + df['text']).tolist()\n",
    "news_labels = df['label'].tolist()\n",
    "\n",
    "news_ids = df['id'].tolist()"
   ]
  },
  {
   "cell_type": "code",
   "execution_count": 11,
   "metadata": {},
   "outputs": [],
   "source": [
    "from sklearn.feature_extraction.text import TfidfVectorizer\n",
    "import torch\n",
    "\n",
    "vectorizer = TfidfVectorizer(max_features=300)\n",
    "news_features = vectorizer.fit_transform(news_content).toarray()\n",
    "news_features = torch.tensor(news_features, dtype=torch.float)"
   ]
  },
  {
   "cell_type": "code",
   "execution_count": 12,
   "metadata": {},
   "outputs": [],
   "source": [
    "data = HeteroData()\n",
    "\n",
    "num_users = len(user_id_map)\n",
    "data['user'].x = torch.eye(num_users)\n",
    "\n",
    "data['news'].x = news_features\n",
    "\n",
    "data['news'].y = torch.tensor(news_labels, dtype=torch.long)"
   ]
  },
  {
   "cell_type": "code",
   "execution_count": 13,
   "metadata": {},
   "outputs": [],
   "source": [
    "user_news_edge_index = torch.tensor(user_news_edges, dtype=torch.long).t().contiguous()\n",
    "user_news_edge_attr = torch.tensor(normalized_counts, dtype=torch.float).unsqueeze(1)\n",
    "\n",
    "data['user', 'spreads', 'news'].edge_index = user_news_edge_index\n",
    "data['user', 'spreads', 'news'].edge_attr = user_news_edge_attr\n",
    "\n",
    "user_user_edge_index = torch.tensor(user_user_edges, dtype=torch.long).t().contiguous()\n",
    "data['user', 'follows', 'user'].edge_index = user_user_edge_index\n"
   ]
  },
  {
   "cell_type": "code",
   "execution_count": 14,
   "metadata": {},
   "outputs": [],
   "source": [
    "class HeteroGCN(torch.nn.Module):\n",
    "    def __init__(self, hidden_channels, out_channels):\n",
    "        super().__init__()\n",
    "        self.conv = torch.nn.ModuleDict({\n",
    "            'follows': GCNConv(-1, hidden_channels),\n",
    "            'spreads': SAGEConv((-1, -1), hidden_channels),\n",
    "        })\n",
    "        \n",
    "        self.lin = torch.nn.ModuleDict({\n",
    "            'user': torch.nn.Linear(hidden_channels, hidden_channels),\n",
    "            'news': torch.nn.Linear(hidden_channels, out_channels)\n",
    "        })\n",
    "\n",
    "    def forward(self, x_dict, edge_index_dict, edge_weight_dict=None):\n",
    "        x_user = self.conv['follows'](\n",
    "            x_dict['user'],\n",
    "            edge_index_dict[('user', 'follows', 'user')],\n",
    "            edge_weight=edge_weight_dict.get(('user', 'follows', 'user'))\n",
    "        )\n",
    "        \n",
    "        x_news = self.conv['spreads'](\n",
    "            (x_dict['user'], x_dict['news']),\n",
    "            edge_index_dict[('user', 'spreads', 'news')]\n",
    "        )\n",
    "        \n",
    "        out_dict = {\n",
    "            'user': F.relu(self.lin['user'](x_user)),\n",
    "            'news': F.relu(self.lin['news'](x_news)),\n",
    "        }\n",
    "        \n",
    "        return out_dict"
   ]
  },
  {
   "cell_type": "code",
   "execution_count": 15,
   "metadata": {},
   "outputs": [],
   "source": [
    "import random\n",
    "\n",
    "num_news = data['news'].num_nodes\n",
    "indices = list(range(num_news))\n",
    "random.shuffle(indices)\n",
    "\n",
    "train_size = int(0.7 * num_news)\n",
    "val_size = int(0.15 * num_news)\n",
    "test_size = num_news - train_size - val_size\n",
    "\n",
    "train_id = indices[:train_size]\n",
    "val_id = indices[train_size:train_size + val_size]\n",
    "test_id = indices[train_size + val_size:]\n",
    "\n",
    "train_mask = torch.zeros(num_news, dtype=torch.bool)\n",
    "val_mask = torch.zeros(num_news, dtype=torch.bool)\n",
    "test_mask = torch.zeros(num_news, dtype=torch.bool)\n",
    "\n",
    "train_mask[train_id] = True\n",
    "val_mask[val_id] = True\n",
    "test_mask[test_id] = True\n",
    "\n",
    "data['news'].train_mask = train_mask\n",
    "data['news'].val_mask = val_mask\n",
    "data['news'].test_mask = test_mask"
   ]
  },
  {
   "cell_type": "code",
   "execution_count": 16,
   "metadata": {},
   "outputs": [],
   "source": [
    "device = torch.device('cuda' if torch.cuda.is_available() else 'cpu')\n",
    "model = HeteroGCN(hidden_channels=64, out_channels=2).to(device)\n",
    "data = data.to(device)\n",
    "\n",
    "optimizer = torch.optim.Adam(model.parameters(), lr=0.01)\n",
    "criterion = torch.nn.CrossEntropyLoss()"
   ]
  },
  {
   "cell_type": "code",
   "execution_count": 17,
   "metadata": {},
   "outputs": [
    {
     "name": "stdout",
     "output_type": "stream",
     "text": [
      "Epoch 001, Loss: 0.6964\n",
      "Epoch 010, Loss: 0.3086\n",
      "Epoch 020, Loss: 0.0249\n",
      "Epoch 030, Loss: 0.0022\n",
      "Epoch 040, Loss: 0.0005\n",
      "Epoch 050, Loss: 0.0003\n",
      "Epoch 060, Loss: 0.0002\n",
      "Epoch 070, Loss: 0.0002\n",
      "Epoch 080, Loss: 0.0002\n",
      "Epoch 090, Loss: 0.0002\n",
      "Epoch 100, Loss: 0.0001\n"
     ]
    }
   ],
   "source": [
    "\n",
    "for epoch in range(1, 101): \n",
    "    model.train()\n",
    "    optimizer.zero_grad()\n",
    "    \n",
    "    out_dict = model(\n",
    "        data.x_dict,\n",
    "        data.edge_index_dict,\n",
    "        edge_weight_dict={\n",
    "            ('user', 'spreads', 'news'): data['user', 'spreads', 'news'].edge_attr.squeeze()\n",
    "        }\n",
    "    )\n",
    "\n",
    "    out = out_dict['news']\n",
    "    loss = criterion(out[data['news'].train_mask], data['news'].y[data['news'].train_mask])\n",
    "    loss.backward()\n",
    "    optimizer.step()\n",
    "    \n",
    "    if epoch % 10 == 0 or epoch == 1:\n",
    "        print(f\"Epoch {epoch:03d}, Loss: {loss.item():.4f}\")"
   ]
  },
  {
   "cell_type": "code",
   "execution_count": 18,
   "metadata": {},
   "outputs": [
    {
     "name": "stdout",
     "output_type": "stream",
     "text": [
      "\n",
      "Classification Report:\n",
      "              precision    recall  f1-score   support\n",
      "\n",
      "        Real       0.83      0.67      0.74        15\n",
      "        Fake       0.69      0.85      0.76        13\n",
      "\n",
      "    accuracy                           0.75        28\n",
      "   macro avg       0.76      0.76      0.75        28\n",
      "weighted avg       0.77      0.75      0.75        28\n",
      "\n"
     ]
    }
   ],
   "source": [
    "model.eval()\n",
    "out_dict = model(data.x_dict, data.edge_index_dict, {\n",
    "    ('user', 'spreads', 'news'): data['user', 'spreads', 'news'].edge_attr.squeeze(),\n",
    "    ('user', 'follows', 'user'): None\n",
    "})\n",
    "\n",
    "pred = out_dict['news'].argmax(dim=1)\n",
    "\n",
    "y_pred = pred[data['news'].test_mask].cpu().numpy()\n",
    "y_true = data['news'].y[data['news'].test_mask].cpu().numpy()\n",
    "\n",
    "print(\"\\nClassification Report:\")\n",
    "print(classification_report(y_true, y_pred, target_names=[\"Real\", \"Fake\"]))"
   ]
  },
  {
   "cell_type": "code",
   "execution_count": 20,
   "metadata": {},
   "outputs": [
    {
     "name": "stdout",
     "output_type": "stream",
     "text": [
      "\n",
      "Classification Report:\n",
      "               precision    recall  f1-score   support\n",
      "\n",
      "           0       0.82      0.60      0.69        15\n",
      "           1       0.65      0.85      0.73        13\n",
      "\n",
      "    accuracy                           0.71        28\n",
      "   macro avg       0.73      0.72      0.71        28\n",
      "weighted avg       0.74      0.71      0.71        28\n",
      "\n"
     ]
    }
   ],
   "source": [
    "from sklearn.ensemble import RandomForestClassifier\n",
    "\n",
    "model.eval()\n",
    "with torch.no_grad():\n",
    "    out_dict = model(data.x_dict, data.edge_index_dict, {\n",
    "    ('user', 'spreads', 'news'): data['user', 'spreads', 'news'].edge_attr.squeeze(),\n",
    "    ('user', 'follows', 'user'): None\n",
    "})\n",
    "    news_embeddings = out_dict['news'].cpu().numpy()\n",
    "\n",
    "rf = RandomForestClassifier(n_estimators=100, random_state=42)\n",
    "rf.fit(news_embeddings[train_id], data['news'].y[train_id])\n",
    "\n",
    "y_pred = rf.predict(news_embeddings[test_id])\n",
    "y_true = data['news'].y[test_id].cpu().numpy()\n",
    "\n",
    "print(\"\\nClassification Report:\\n\", classification_report(y_true, y_pred))"
   ]
  },
  {
   "cell_type": "code",
   "execution_count": null,
   "metadata": {},
   "outputs": [],
   "source": []
  }
 ],
 "metadata": {
  "kernelspec": {
   "display_name": "fnn",
   "language": "python",
   "name": "python3"
  },
  "language_info": {
   "codemirror_mode": {
    "name": "ipython",
    "version": 3
   },
   "file_extension": ".py",
   "mimetype": "text/x-python",
   "name": "python",
   "nbconvert_exporter": "python",
   "pygments_lexer": "ipython3",
   "version": "3.13.2"
  }
 },
 "nbformat": 4,
 "nbformat_minor": 2
}
